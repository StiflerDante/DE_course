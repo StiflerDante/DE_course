{
 "cells": [
  {
   "cell_type": "markdown",
   "metadata": {
    "id": "iig34-2Dlc2J"
   },
   "source": [
    "# **Final task**"
   ]
  },
  {
   "cell_type": "code",
   "execution_count": 112,
   "metadata": {
    "colab": {
     "base_uri": "https://localhost:8080/"
    },
    "id": "AvY8vppnlcVf",
    "outputId": "1a42d91a-3a38-4592-fabe-7d5acfdabd1f"
   },
   "outputs": [
    {
     "name": "stdout",
     "output_type": "stream",
     "text": [
      "Collecting faker\n",
      "  Downloading Faker-33.0.0-py3-none-any.whl.metadata (15 kB)\n",
      "Requirement already satisfied: python-dateutil>=2.4 in /usr/local/lib/python3.10/dist-packages (from faker) (2.8.2)\n",
      "Requirement already satisfied: typing-extensions in /usr/local/lib/python3.10/dist-packages (from faker) (4.12.2)\n",
      "Requirement already satisfied: six>=1.5 in /usr/local/lib/python3.10/dist-packages (from python-dateutil>=2.4->faker) (1.16.0)\n",
      "Downloading Faker-33.0.0-py3-none-any.whl (1.9 MB)\n",
      "\u001b[?25l   \u001b[90m━━━━━━━━━━━━━━━━━━━━━━━━━━━━━━━━━━━━━━━━\u001b[0m \u001b[32m0.0/1.9 MB\u001b[0m \u001b[31m?\u001b[0m eta \u001b[36m-:--:--\u001b[0m\r\u001b[2K   \u001b[91m━━━━━━━━━━━━━━━━\u001b[0m\u001b[91m╸\u001b[0m\u001b[90m━━━━━━━━━━━━━━━━━━━━━━━\u001b[0m \u001b[32m0.8/1.9 MB\u001b[0m \u001b[31m23.8 MB/s\u001b[0m eta \u001b[36m0:00:01\u001b[0m\r\u001b[2K   \u001b[91m━━━━━━━━━━━━━━━━━━━━━━━━━━━━━━━━━━━━━━━\u001b[0m\u001b[91m╸\u001b[0m \u001b[32m1.9/1.9 MB\u001b[0m \u001b[31m38.5 MB/s\u001b[0m eta \u001b[36m0:00:01\u001b[0m\r\u001b[2K   \u001b[90m━━━━━━━━━━━━━━━━━━━━━━━━━━━━━━━━━━━━━━━━\u001b[0m \u001b[32m1.9/1.9 MB\u001b[0m \u001b[31m24.2 MB/s\u001b[0m eta \u001b[36m0:00:00\u001b[0m\n",
      "\u001b[?25hInstalling collected packages: faker\n",
      "Successfully installed faker-33.0.0\n",
      "Requirement already satisfied: pyspark in /usr/local/lib/python3.10/dist-packages (3.5.3)\n",
      "Requirement already satisfied: py4j==0.10.9.7 in /usr/local/lib/python3.10/dist-packages (from pyspark) (0.10.9.7)\n"
     ]
    }
   ],
   "source": [
    "!pip install faker\n",
    "!pip install pyspark"
   ]
  },
  {
   "cell_type": "code",
   "execution_count": 114,
   "metadata": {
    "id": "pcry34HGuYpT"
   },
   "outputs": [],
   "source": [
    "import csv\n",
    "from faker import Faker\n",
    "import random\n",
    "from pyspark import SparkContext, SparkConf\n",
    "from pyspark.sql import SparkSession\n",
    "from pyspark.sql.functions import avg, sum, max, col, month, year"
   ]
  },
  {
   "cell_type": "code",
   "execution_count": null,
   "metadata": {
    "id": "0gbBqNUKlcaO"
   },
   "outputs": [],
   "source": [
    "spark = (\n",
    "    SparkSession.builder.config(\"spark.app.name\", \"homework\")\n",
    "    .master(\"local[*]\")\n",
    "    .getOrCreate()\n",
    ")"
   ]
  },
  {
   "cell_type": "code",
   "execution_count": null,
   "metadata": {
    "id": "UoJ74Uv1lcci"
   },
   "outputs": [],
   "source": [
    "df = spark.read.csv(\"web_server_logs.csv\", header=True, inferSchema=True)"
   ]
  },
  {
   "cell_type": "code",
   "execution_count": 118,
   "metadata": {
    "colab": {
     "base_uri": "https://localhost:8080/"
    },
    "id": "Ppg31rvTvdWh",
    "outputId": "634b3e72-7c17-40fb-835e-3032bf726c84"
   },
   "outputs": [
    {
     "name": "stdout",
     "output_type": "stream",
     "text": [
      "root\n",
      " |-- ip: string (nullable = true)\n",
      " |-- timestamp: timestamp (nullable = true)\n",
      " |-- method: string (nullable = true)\n",
      " |-- url: string (nullable = true)\n",
      " |-- response_code: integer (nullable = true)\n",
      " |-- response_size: integer (nullable = true)\n",
      "\n"
     ]
    }
   ],
   "source": [
    "df.printSchema()"
   ]
  },
  {
   "cell_type": "code",
   "execution_count": null,
   "metadata": {
    "id": "7s1xFBfOvlSV"
   },
   "outputs": [],
   "source": [
    "df = df.withColumn(\"date\", df[\"timestamp\"].cast(\"date\"))  # Добавляем date"
   ]
  },
  {
   "cell_type": "code",
   "execution_count": null,
   "metadata": {
    "colab": {
     "base_uri": "https://localhost:8080/"
    },
    "id": "FJuwhEHtvqr8",
    "outputId": "bb057ac8-9c40-4c79-a55e-e781f9b01a60"
   },
   "outputs": [
    {
     "name": "stdout",
     "output_type": "stream",
     "text": [
      "+---------------+-------------+\n",
      "|             ip|request_count|\n",
      "+---------------+-------------+\n",
      "|  62.64.180.205|            2|\n",
      "| 116.117.81.102|            2|\n",
      "|132.224.113.177|            1|\n",
      "|  218.88.73.108|            1|\n",
      "|  108.55.217.78|            1|\n",
      "|   99.3.191.107|            1|\n",
      "| 177.250.90.166|            1|\n",
      "|    8.17.184.13|            1|\n",
      "|  108.84.33.128|            1|\n",
      "|    202.92.29.3|            1|\n",
      "+---------------+-------------+\n",
      "only showing top 10 rows\n",
      "\n"
     ]
    }
   ],
   "source": [
    "# Задание 1. Сгруппируйте данные по IP и посчитайте количество запросов для каждого IP, выводим 10 самых активных IP.\n",
    "\n",
    "df.groupBy(\"ip\").agg({\"url\": \"count\"}).withColumnRenamed(\n",
    "    \"count(url)\", \"request_count\"\n",
    ").orderBy(col(\"request_count\").desc()).show(10)"
   ]
  },
  {
   "cell_type": "code",
   "execution_count": null,
   "metadata": {
    "colab": {
     "base_uri": "https://localhost:8080/"
    },
    "id": "wCgb1sifyglu",
    "outputId": "914eef0a-21a1-4d71-c936-0b280c355ef5"
   },
   "outputs": [
    {
     "name": "stdout",
     "output_type": "stream",
     "text": [
      "+------+------------+\n",
      "|method|method_count|\n",
      "+------+------------+\n",
      "|  POST|       25086|\n",
      "|DELETE|       24973|\n",
      "|   GET|       24973|\n",
      "|   PUT|       24968|\n",
      "+------+------------+\n",
      "\n"
     ]
    }
   ],
   "source": [
    "# Задание 2 Сгруппируйте данные по HTTP-методу и посчитайте количество запросов для каждого метода.\n",
    "df.groupBy(\"method\").agg({\"url\": \"count\"}).withColumnRenamed(\n",
    "    \"count(url)\", \"method_count\"\n",
    ").orderBy(col(\"method_count\").desc()).show()"
   ]
  },
  {
   "cell_type": "code",
   "execution_count": null,
   "metadata": {
    "colab": {
     "base_uri": "https://localhost:8080/"
    },
    "id": "bs2Vmj1kz1XF",
    "outputId": "e8885bbd-0acb-478e-f22a-775ec2f8bb85"
   },
   "outputs": [
    {
     "name": "stdout",
     "output_type": "stream",
     "text": [
      "+------------------+---------+\n",
      "|               url|url_count|\n",
      "+------------------+---------+\n",
      "|          category|      744|\n",
      "|           explore|      728|\n",
      "|              list|      698|\n",
      "|            search|      690|\n",
      "|        wp-content|      681|\n",
      "|             posts|      679|\n",
      "|               app|      677|\n",
      "|              main|      676|\n",
      "|        categories|      675|\n",
      "|              tags|      669|\n",
      "|               tag|      654|\n",
      "|              blog|      639|\n",
      "|   tags/wp-content|       87|\n",
      "|explore/wp-content|       82|\n",
      "|    posts/category|       73|\n",
      "|    tag/categories|       72|\n",
      "|          blog/app|       72|\n",
      "|   search/category|       72|\n",
      "|    search/explore|       72|\n",
      "|     category/list|       71|\n",
      "+------------------+---------+\n",
      "only showing top 20 rows\n",
      "\n"
     ]
    }
   ],
   "source": [
    "# Задание 3 Профильтруйте и посчитайте количество запросов с кодом ответа 404.\n",
    "\n",
    "df.filter(col(\"response_code\") == \"404\").groupBy(\"url\").agg(\n",
    "    {\"url\": \"count\"}\n",
    ").withColumnRenamed(\"count(url)\", \"url_count\").orderBy(col(\"url_count\").desc()).show()"
   ]
  },
  {
   "cell_type": "code",
   "execution_count": null,
   "metadata": {
    "colab": {
     "base_uri": "https://localhost:8080/"
    },
    "id": "Qq90dApsz1ZV",
    "outputId": "805cce9d-5e21-479f-d0a7-4f5aeb7bb145"
   },
   "outputs": [
    {
     "name": "stdout",
     "output_type": "stream",
     "text": [
      "+----------+-------------------+\n",
      "|      date|total_response_size|\n",
      "+----------+-------------------+\n",
      "|2024-01-01|            1655719|\n",
      "|2024-01-02|            1565031|\n",
      "|2024-01-03|            1405882|\n",
      "|2024-01-04|            1518123|\n",
      "|2024-01-05|            1558277|\n",
      "|2024-01-06|            1533007|\n",
      "|2024-01-07|            1442851|\n",
      "|2024-01-08|            1706504|\n",
      "|2024-01-09|            1573764|\n",
      "|2024-01-10|            1652017|\n",
      "|2024-01-11|            1601706|\n",
      "|2024-01-12|            1437884|\n",
      "|2024-01-13|            1560505|\n",
      "|2024-01-14|            1774513|\n",
      "|2024-01-15|            1712209|\n",
      "|2024-01-16|            1514433|\n",
      "|2024-01-17|            1434715|\n",
      "|2024-01-18|            1709194|\n",
      "|2024-01-19|            1720691|\n",
      "|2024-01-20|            1489896|\n",
      "+----------+-------------------+\n",
      "only showing top 20 rows\n",
      "\n"
     ]
    }
   ],
   "source": [
    "# Задание 4 4. Сгруппируйте данные по дате и просуммируйте размер ответов, сортируйте по дате.\n",
    "\n",
    "df.groupBy(\"date\").agg({\"response_size\": \"sum\"}).withColumnRenamed(\n",
    "    \"sum(response_size)\", \"total_response_size\"\n",
    ").orderBy(col(\"date\").asc()).show()"
   ]
  },
  {
   "cell_type": "code",
   "execution_count": 140,
   "metadata": {
    "colab": {
     "base_uri": "https://localhost:8080/"
    },
    "id": "PIY2X0RPz1bm",
    "outputId": "8e46c4c0-8b3c-4c3c-da37-8b560df65835"
   },
   "outputs": [
    {
     "name": "stdout",
     "output_type": "stream",
     "text": [
      "+---------------+--------------------+------+--------------------+-------------+-------------+----------+\n",
      "|             ip|           timestamp|method|                 url|response_code|response_size|      date|\n",
      "+---------------+--------------------+------+--------------------+-------------+-------------+----------+\n",
      "|   40.243.31.88|2024-11-15 11:58:...|   PUT|tag/wp-content/se...|          404|         4401|2024-11-15|\n",
      "|  16.228.185.26|2024-10-08 19:50:...|DELETE|                tags|          200|         7554|2024-10-08|\n",
      "|    36.74.27.30|2024-07-14 06:27:...|DELETE|       app/main/blog|          301|         6611|2024-07-14|\n",
      "|  222.33.40.225|2024-07-21 11:28:...|   GET|                list|          301|         5869|2024-07-21|\n",
      "|   27.60.108.31|2024-01-03 06:20:...|  POST|       tags/category|          301|         6460|2024-01-03|\n",
      "|  110.93.33.148|2024-07-11 14:21:...|   PUT|        app/category|          301|         5278|2024-07-11|\n",
      "|   14.114.25.45|2024-02-10 10:47:...|   GET|  tag/posts/category|          301|         8064|2024-02-10|\n",
      "|    99.14.96.18|2024-04-26 13:46:...|DELETE|                 tag|          301|         1082|2024-04-26|\n",
      "|119.235.182.115|2024-02-29 12:25:...|   PUT|          wp-content|          200|         2904|2024-02-29|\n",
      "| 166.91.119.248|2024-06-21 16:08:...|  POST|                blog|          301|         6664|2024-06-21|\n",
      "| 162.26.212.194|2024-03-11 20:37:...|  POST|       blog/tag/blog|          500|         1596|2024-03-11|\n",
      "| 215.109.181.59|2024-08-02 13:31:...|DELETE|  wp-content/explore|          200|         4587|2024-08-02|\n",
      "| 117.167.87.230|2024-10-04 17:32:...|   PUT|       blog/list/app|          404|         1168|2024-10-04|\n",
      "|  96.47.209.247|2024-10-20 23:30:...|   GET|             explore|          500|         5182|2024-10-20|\n",
      "|  40.201.254.30|2024-02-21 09:48:...|  POST|              search|          500|         5518|2024-02-21|\n",
      "| 109.54.155.206|2024-04-04 08:26:...|  POST| category/categories|          404|         8291|2024-04-04|\n",
      "| 44.213.212.161|2024-06-20 23:32:...|   PUT|           blog/main|          500|          176|2024-06-20|\n",
      "| 79.188.247.213|2024-03-09 21:56:...|   PUT|category/tag/cate...|          301|         4451|2024-03-09|\n",
      "|209.183.183.250|2024-08-04 05:41:...|   PUT|                main|          301|         2551|2024-08-04|\n",
      "|  209.14.83.180|2024-03-04 15:13:...|   PUT|                tags|          500|         6976|2024-03-04|\n",
      "+---------------+--------------------+------+--------------------+-------------+-------------+----------+\n",
      "only showing top 20 rows\n",
      "\n"
     ]
    }
   ],
   "source": [
    "df.show()"
   ]
  },
  {
   "cell_type": "code",
   "execution_count": null,
   "metadata": {
    "id": "nZE0WwoKz1dp"
   },
   "outputs": [],
   "source": []
  }
 ],
 "metadata": {
  "colab": {
   "provenance": []
  },
  "kernelspec": {
   "display_name": "Python 3",
   "name": "python3"
  },
  "language_info": {
   "name": "python"
  }
 },
 "nbformat": 4,
 "nbformat_minor": 0
}
